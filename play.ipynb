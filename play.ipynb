{
 "cells": [
  {
   "cell_type": "code",
   "execution_count": 1,
   "metadata": {},
   "outputs": [],
   "source": [
    "import torch\n",
    "\n",
    "from model import RetNetModel, RetNetModelWithLMHead, RetNetConfig\n",
    "\n",
    "%load_ext autoreload\n",
    "%autoreload 2"
   ]
  },
  {
   "cell_type": "code",
   "execution_count": 2,
   "metadata": {},
   "outputs": [],
   "source": [
    "torch.manual_seed(0)\n",
    "config = RetNetConfig(num_layers=8, vocab_size=100, hidden_size=512, num_heads=4, use_default_gamma=False, chunk_size=4)\n",
    "model = RetNetModel(config)\n",
    "model.eval()\n",
    "\n",
    "device = 'mps'  # cuda, cpu, mps for m1 mac\n",
    "model = model.to(device)"
   ]
  },
  {
   "cell_type": "code",
   "execution_count": 3,
   "metadata": {},
   "outputs": [
    {
     "data": {
      "text/plain": [
       "Parameter containing:\n",
       "tensor([0.9688, 0.9876, 0.9951, 0.9980], device='mps:0')"
      ]
     },
     "execution_count": 3,
     "metadata": {},
     "output_type": "execute_result"
    }
   ],
   "source": [
    "model.blocks[0].msr.decay"
   ]
  },
  {
   "cell_type": "code",
   "execution_count": 4,
   "metadata": {},
   "outputs": [
    {
     "name": "stdout",
     "output_type": "stream",
     "text": [
      "True\n",
      "True\n",
      "True\n",
      "layer: 1\n",
      "True\n",
      "True\n",
      "True\n",
      "layer: 2\n",
      "True\n",
      "True\n",
      "True\n",
      "layer: 3\n",
      "True\n",
      "True\n",
      "True\n",
      "layer: 4\n",
      "True\n",
      "True\n",
      "True\n",
      "layer: 5\n",
      "True\n",
      "True\n",
      "True\n",
      "layer: 6\n",
      "True\n",
      "True\n",
      "True\n",
      "layer: 7\n",
      "True\n",
      "True\n",
      "True\n",
      "layer: 8\n",
      "True\n",
      "True\n",
      "True\n"
     ]
    }
   ],
   "source": [
    "input_ids = torch.LongTensor([[1,2,3,4, 1,2,3,4]]).to(device)\n",
    "\n",
    "out, parallel_past_kv = model(input_ids, forward_impl='parallel', return_kv=True)\n",
    "\n",
    "past_kv = None\n",
    "rnn_outs = []\n",
    "for i in range(input_ids.shape[1]):\n",
    "    rnn_out, past_kv = model(input_ids[:, i:i+1], forward_impl='recurrent', past_kv=past_kv, return_kv=True, sequence_offset=i)\n",
    "    rnn_outs.append(rnn_out)\n",
    "rnn_outs = torch.cat(rnn_outs, dim=1)\n",
    "\n",
    "chunk_out, chunk_past_kv = model(input_ids, forward_impl='chunkwise', return_kv=True)\n",
    "\n",
    "print(torch.allclose(out, rnn_outs, atol=1e-5))\n",
    "print(torch.allclose(out, chunk_out, atol=1e-5))\n",
    "print(torch.allclose(rnn_outs, chunk_out, atol=1e-5))\n",
    "\n",
    "for i, (p, r, c) in enumerate(zip(parallel_past_kv, past_kv, chunk_past_kv)):\n",
    "    print(f\"layer: {i + 1}\")\n",
    "    print(torch.allclose(p, r, atol=1e-5))\n",
    "    print(torch.allclose(p, c, atol=1e-5))\n",
    "    print(torch.allclose(r, c, atol=1e-5))\n"
   ]
  },
  {
   "cell_type": "code",
   "execution_count": 5,
   "metadata": {},
   "outputs": [
    {
     "data": {
      "text/plain": [
       "(tensor([[27, 17, 36, 96, 79, 51, 87, 97, 70, 16, 11,  2, 93, 68,  4, 62,  4, 62,\n",
       "           4, 62]], device='mps:0'),\n",
       " tensor([[27, 17, 36, 96, 79, 51, 87, 97, 70, 16, 11,  2, 93, 68,  4, 62,  4, 62,\n",
       "           4, 62]], device='mps:0'))"
      ]
     },
     "execution_count": 5,
     "metadata": {},
     "output_type": "execute_result"
    }
   ],
   "source": [
    "\n",
    "torch.manual_seed(0)\n",
    "config = RetNetConfig(num_layers=8, vocab_size=100, hidden_size=512, num_heads=4, use_default_gamma=False, chunk_size=4)\n",
    "model = RetNetModelWithLMHead(config).to(device)\n",
    "model.eval()\n",
    "\n",
    "p_generated = model.generate(input_ids, parallel_compute_prompt=True, max_new_tokens=20, do_sample=False, early_stopping=False)\n",
    "r_generated = model.generate(input_ids, parallel_compute_prompt=False, max_new_tokens=20, do_sample=False, early_stopping=False)\n",
    "\n",
    "p_generated, r_generated\n"
   ]
  },
  {
   "cell_type": "code",
   "execution_count": null,
   "metadata": {},
   "outputs": [],
   "source": []
  }
 ],
 "metadata": {
  "kernelspec": {
   "display_name": "torch-m1",
   "language": "python",
   "name": "python3"
  },
  "language_info": {
   "codemirror_mode": {
    "name": "ipython",
    "version": 3
   },
   "file_extension": ".py",
   "mimetype": "text/x-python",
   "name": "python",
   "nbconvert_exporter": "python",
   "pygments_lexer": "ipython3",
   "version": "3.11.3"
  },
  "orig_nbformat": 4
 },
 "nbformat": 4,
 "nbformat_minor": 2
}
